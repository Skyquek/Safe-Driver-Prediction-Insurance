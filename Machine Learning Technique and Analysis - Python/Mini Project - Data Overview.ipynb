{
 "cells": [
  {
   "cell_type": "code",
   "execution_count": 1,
   "metadata": {},
   "outputs": [],
   "source": [
    "import pandas as pd\n",
    "import numpy as np\n",
    "import matplotlib.pyplot as plt\n",
    "import seaborn as sns\n",
    "from sklearn.preprocessing import Imputer\n",
    "from sklearn.preprocessing import PolynomialFeatures\n",
    "from sklearn.preprocessing import StandardScaler\n",
    "from sklearn.feature_selection import VarianceThreshold\n",
    "from sklearn.feature_selection import SelectFromModel\n",
    "from sklearn.utils import shuffle\n",
    "from sklearn.ensemble import RandomForestClassifier\n",
    "\n",
    "pd.set_option('display.max_columns', 100)"
   ]
  },
  {
   "cell_type": "code",
   "execution_count": 2,
   "metadata": {},
   "outputs": [],
   "source": [
    "%matplotlib inline\n",
    "\n",
    "df = pd.read_excel('driver.xlsx', na_values=['#NAME?'])"
   ]
  },
  {
   "cell_type": "code",
   "execution_count": 3,
   "metadata": {},
   "outputs": [
    {
     "data": {
      "text/html": [
       "<div>\n",
       "<style scoped>\n",
       "    .dataframe tbody tr th:only-of-type {\n",
       "        vertical-align: middle;\n",
       "    }\n",
       "\n",
       "    .dataframe tbody tr th {\n",
       "        vertical-align: top;\n",
       "    }\n",
       "\n",
       "    .dataframe thead th {\n",
       "        text-align: right;\n",
       "    }\n",
       "</style>\n",
       "<table border=\"1\" class=\"dataframe\">\n",
       "  <thead>\n",
       "    <tr style=\"text-align: right;\">\n",
       "      <th></th>\n",
       "      <th>ID</th>\n",
       "      <th>target</th>\n",
       "      <th>EngineHP</th>\n",
       "      <th>credit_history</th>\n",
       "      <th>Years_Experience</th>\n",
       "      <th>annual_claims</th>\n",
       "      <th>Miles_driven_annually</th>\n",
       "      <th>size_of_family</th>\n",
       "    </tr>\n",
       "  </thead>\n",
       "  <tbody>\n",
       "    <tr>\n",
       "      <th>count</th>\n",
       "      <td>30240.000000</td>\n",
       "      <td>30240.00000</td>\n",
       "      <td>30240.000000</td>\n",
       "      <td>30240.000000</td>\n",
       "      <td>30240.000000</td>\n",
       "      <td>30240.000000</td>\n",
       "      <td>30232.000000</td>\n",
       "      <td>30240.000000</td>\n",
       "    </tr>\n",
       "    <tr>\n",
       "      <th>mean</th>\n",
       "      <td>15120.500000</td>\n",
       "      <td>0.70754</td>\n",
       "      <td>196.604266</td>\n",
       "      <td>685.769775</td>\n",
       "      <td>13.255721</td>\n",
       "      <td>1.138459</td>\n",
       "      <td>17422.938939</td>\n",
       "      <td>4.521296</td>\n",
       "    </tr>\n",
       "    <tr>\n",
       "      <th>std</th>\n",
       "      <td>8729.680407</td>\n",
       "      <td>0.45490</td>\n",
       "      <td>132.346961</td>\n",
       "      <td>102.454307</td>\n",
       "      <td>9.890246</td>\n",
       "      <td>1.082913</td>\n",
       "      <td>17483.782840</td>\n",
       "      <td>2.286531</td>\n",
       "    </tr>\n",
       "    <tr>\n",
       "      <th>min</th>\n",
       "      <td>1.000000</td>\n",
       "      <td>0.00000</td>\n",
       "      <td>80.000000</td>\n",
       "      <td>300.000000</td>\n",
       "      <td>1.000000</td>\n",
       "      <td>0.000000</td>\n",
       "      <td>5000.000000</td>\n",
       "      <td>1.000000</td>\n",
       "    </tr>\n",
       "    <tr>\n",
       "      <th>25%</th>\n",
       "      <td>7560.750000</td>\n",
       "      <td>0.00000</td>\n",
       "      <td>111.000000</td>\n",
       "      <td>668.000000</td>\n",
       "      <td>5.000000</td>\n",
       "      <td>0.000000</td>\n",
       "      <td>9668.500000</td>\n",
       "      <td>3.000000</td>\n",
       "    </tr>\n",
       "    <tr>\n",
       "      <th>50%</th>\n",
       "      <td>15120.500000</td>\n",
       "      <td>1.00000</td>\n",
       "      <td>141.000000</td>\n",
       "      <td>705.000000</td>\n",
       "      <td>10.000000</td>\n",
       "      <td>1.000000</td>\n",
       "      <td>12280.000000</td>\n",
       "      <td>5.000000</td>\n",
       "    </tr>\n",
       "    <tr>\n",
       "      <th>75%</th>\n",
       "      <td>22680.250000</td>\n",
       "      <td>1.00000</td>\n",
       "      <td>238.000000</td>\n",
       "      <td>753.000000</td>\n",
       "      <td>20.000000</td>\n",
       "      <td>2.000000</td>\n",
       "      <td>14697.250000</td>\n",
       "      <td>7.000000</td>\n",
       "    </tr>\n",
       "    <tr>\n",
       "      <th>max</th>\n",
       "      <td>30240.000000</td>\n",
       "      <td>1.00000</td>\n",
       "      <td>1005.000000</td>\n",
       "      <td>850.000000</td>\n",
       "      <td>40.000000</td>\n",
       "      <td>4.000000</td>\n",
       "      <td>99943.000000</td>\n",
       "      <td>8.000000</td>\n",
       "    </tr>\n",
       "  </tbody>\n",
       "</table>\n",
       "</div>"
      ],
      "text/plain": [
       "                 ID       target      EngineHP  credit_history  \\\n",
       "count  30240.000000  30240.00000  30240.000000    30240.000000   \n",
       "mean   15120.500000      0.70754    196.604266      685.769775   \n",
       "std     8729.680407      0.45490    132.346961      102.454307   \n",
       "min        1.000000      0.00000     80.000000      300.000000   \n",
       "25%     7560.750000      0.00000    111.000000      668.000000   \n",
       "50%    15120.500000      1.00000    141.000000      705.000000   \n",
       "75%    22680.250000      1.00000    238.000000      753.000000   \n",
       "max    30240.000000      1.00000   1005.000000      850.000000   \n",
       "\n",
       "       Years_Experience  annual_claims  Miles_driven_annually  size_of_family  \n",
       "count      30240.000000   30240.000000           30232.000000    30240.000000  \n",
       "mean          13.255721       1.138459           17422.938939        4.521296  \n",
       "std            9.890246       1.082913           17483.782840        2.286531  \n",
       "min            1.000000       0.000000            5000.000000        1.000000  \n",
       "25%            5.000000       0.000000            9668.500000        3.000000  \n",
       "50%           10.000000       1.000000           12280.000000        5.000000  \n",
       "75%           20.000000       2.000000           14697.250000        7.000000  \n",
       "max           40.000000       4.000000           99943.000000        8.000000  "
      ]
     },
     "execution_count": 3,
     "metadata": {},
     "output_type": "execute_result"
    }
   ],
   "source": [
    "df.describe()"
   ]
  },
  {
   "cell_type": "code",
   "execution_count": 4,
   "metadata": {},
   "outputs": [
    {
     "data": {
      "text/plain": [
       "(30240, 17)"
      ]
     },
     "execution_count": 4,
     "metadata": {},
     "output_type": "execute_result"
    }
   ],
   "source": [
    "#30250 rows and 17 attribute\n",
    "df.shape"
   ]
  },
  {
   "cell_type": "code",
   "execution_count": 6,
   "metadata": {},
   "outputs": [
    {
     "data": {
      "text/plain": [
       "(30240, 17)"
      ]
     },
     "execution_count": 6,
     "metadata": {},
     "output_type": "execute_result"
    }
   ],
   "source": [
    "#check if there are any duplicate values inside(seems to not have)\n",
    "df.drop_duplicates()\n",
    "df.shape"
   ]
  },
  {
   "cell_type": "code",
   "execution_count": 9,
   "metadata": {},
   "outputs": [
    {
     "name": "stdout",
     "output_type": "stream",
     "text": [
      "<class 'pandas.core.frame.DataFrame'>\n",
      "RangeIndex: 30240 entries, 0 to 30239\n",
      "Data columns (total 17 columns):\n",
      "ID                              30240 non-null int64\n",
      "target                          30240 non-null int64\n",
      "Gender                          30240 non-null object\n",
      "EngineHP                        30240 non-null int64\n",
      "credit_history                  30240 non-null int64\n",
      "Years_Experience                30240 non-null int64\n",
      "annual_claims                   30240 non-null int64\n",
      "Marital_Status                  30240 non-null object\n",
      "Vehical_type                    30240 non-null object\n",
      "Miles_driven_annually           30232 non-null float64\n",
      "size_of_family                  30240 non-null int64\n",
      "Age_bucket                      30240 non-null object\n",
      "EngineHP_bucket                 30240 non-null object\n",
      "Years_Experience_bucket         30240 non-null object\n",
      "Miles_driven_annually_bucket    30232 non-null object\n",
      "credit_history_bucket           30240 non-null object\n",
      "State                           30240 non-null object\n",
      "dtypes: float64(1), int64(7), object(9)\n",
      "memory usage: 3.9+ MB\n"
     ]
    }
   ],
   "source": [
    "#9 attribute need to use pandas dummies, because that are categorical variable\n",
    "df.info()"
   ]
  },
  {
   "cell_type": "code",
   "execution_count": null,
   "metadata": {},
   "outputs": [],
   "source": []
  }
 ],
 "metadata": {
  "kernelspec": {
   "display_name": "Python 3",
   "language": "python",
   "name": "python3"
  },
  "language_info": {
   "codemirror_mode": {
    "name": "ipython",
    "version": 3
   },
   "file_extension": ".py",
   "mimetype": "text/x-python",
   "name": "python",
   "nbconvert_exporter": "python",
   "pygments_lexer": "ipython3",
   "version": "3.7.3"
  }
 },
 "nbformat": 4,
 "nbformat_minor": 2
}
