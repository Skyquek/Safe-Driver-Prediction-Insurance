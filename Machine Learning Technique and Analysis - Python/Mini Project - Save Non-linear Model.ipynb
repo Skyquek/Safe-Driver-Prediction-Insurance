{
 "cells": [
  {
   "cell_type": "markdown",
   "metadata": {},
   "source": [
    "# Import All Libraries and dataset\n",
    "\n"
   ]
  },
  {
   "cell_type": "code",
   "execution_count": 3,
   "metadata": {},
   "outputs": [],
   "source": [
    "import pandas as pd\n",
    "import numpy as np\n",
    "import matplotlib.pyplot as plt\n",
    "import seaborn as sns\n",
    "from scipy.io import arff\n",
    "from sklearn.linear_model import LogisticRegression\n",
    "from sklearn.model_selection import train_test_split\n",
    "from sklearn import svm\n",
    "from sklearn.metrics import confusion_matrix\n",
    "from sklearn.metrics import recall_score\n",
    "from sklearn.preprocessing import MinMaxScaler\n",
    "from sklearn.preprocessing import Imputer\n",
    "from sklearn.metrics import accuracy_score\n",
    "from sklearn.svm import SVC\n",
    "import pickle\n",
    "from sklearn.metrics import precision_score\n",
    "import itertools\n",
    "from sklearn.decomposition import PCA\n",
    "from sklearn.metrics import f1_score"
   ]
  },
  {
   "cell_type": "code",
   "execution_count": 4,
   "metadata": {},
   "outputs": [],
   "source": [
    "%matplotlib inline\n",
    "\n",
    "df = pd.read_excel('driver.xlsx', na_values=['#NAME?'])"
   ]
  },
  {
   "cell_type": "code",
   "execution_count": 5,
   "metadata": {},
   "outputs": [
    {
     "data": {
      "image/png": "[encoded data removed]",
      "text/plain": [
       "<Figure size 432x288 with 1 Axes>"
      ]
     },
     "metadata": {
      "needs_background": "light"
     },
     "output_type": "display_data"
    }
   ],
   "source": [
    "# Class count\n",
    "count_class_1, count_class_0 = df.target.value_counts()\n",
    "\n",
    "# Divide by class\n",
    "df_class_0 = df[df['target'] == 0]\n",
    "df_class_1 = df[df['target'] == 1]\n",
    "\n",
    "#Under sampling the target value 1 \n",
    "count_class_1\n",
    "\n",
    "df.target.value_counts().plot(kind='bar', title='Count (target)');"
   ]
  },
  {
   "cell_type": "code",
   "execution_count": 6,
   "metadata": {},
   "outputs": [
    {
     "name": "stdout",
     "output_type": "stream",
     "text": [
      "Random under-sampling:\n",
      "1    8844\n",
      "0    8844\n",
      "Name: target, dtype: int64\n"
     ]
    },
    {
     "data": {
      "image/png": "[encoded data removed]",
      "text/plain": [
       "<Figure size 432x288 with 1 Axes>"
      ]
     },
     "metadata": {
      "needs_background": "light"
     },
     "output_type": "display_data"
    }
   ],
   "source": [
    "df_class_1_under = df_class_1.sample(count_class_0, random_state= 2)\n",
    "\n",
    "df_test_under = pd.concat([df_class_1_under, df_class_0], axis=0)\n",
    "print('Random under-sampling:')\n",
    "print(df_test_under.target.value_counts())\n",
    "\n",
    "df_test_under.target.value_counts().plot(kind='bar', title='Count (target)');"
   ]
  },
  {
   "cell_type": "code",
   "execution_count": 7,
   "metadata": {},
   "outputs": [],
   "source": [
    "#Assign df_test_under as new dataframe object\n",
    "df = df_test_under"
   ]
  },
  {
   "cell_type": "code",
   "execution_count": 60,
   "metadata": {},
   "outputs": [
    {
     "name": "stdout",
     "output_type": "stream",
     "text": [
      "      Gender  EngineHP  credit_history  Years_Experience  annual_claims  \\\n",
      "6069       M       124             700                20              1   \n",
      "18511      F       105             735                20              1   \n",
      "14409      F       251             631                 7              1   \n",
      "21933      M       126             735                10              1   \n",
      "21795      F       120             788                17              0   \n",
      "3433       M       404             819                 1              2   \n",
      "17117      M       133             752                19              1   \n",
      "2660       F       253             719                 8              2   \n",
      "26213      F       117             680                25              1   \n",
      "22744      M       102             617                 2              2   \n",
      "24173      F        89             700                12              1   \n",
      "\n",
      "      Marital_Status Vehical_type  Miles_driven_annually  size_of_family  \\\n",
      "6069         Married      Utility                 6143.0               3   \n",
      "18511        Married        Truck                11419.0               6   \n",
      "14409         Single        Truck                10068.0               2   \n",
      "21933        Married        Truck                 6464.0               1   \n",
      "21795        Married          Car                13922.0               1   \n",
      "3433          Single          Car                19668.0               1   \n",
      "17117        Married          Van                 7058.0               8   \n",
      "2660          Single        Truck                10113.0               5   \n",
      "26213        Married          Car                 9470.0               5   \n",
      "22744         Single          Car                33915.0               3   \n",
      "24173        Married          Car                40376.0               5   \n",
      "\n",
      "      Age_bucket EngineHP_bucket Years_Experience_bucket  \\\n",
      "6069       35-40          90-160                   15-30   \n",
      "18511      35-40          90-160                   15-30   \n",
      "14409      35-40         161-350                    3-8'   \n",
      "21933        >40          90-160                   9-14'   \n",
      "21795        >40          90-160                   15-30   \n",
      "3433       18-27            >350                      <3   \n",
      "17117        >40          90-160                   15-30   \n",
      "2660       35-40         161-350                    3-8'   \n",
      "26213        >40          90-160                   15-30   \n",
      "22744      18-27          90-160                      <3   \n",
      "24173      35-40             <90                   9-14'   \n",
      "\n",
      "      Miles_driven_annually_bucket credit_history_bucket State  \n",
      "6069                          <15k                  Good    NJ  \n",
      "18511                         <15k                  Good    CT  \n",
      "14409                         >25k                  Fair    NJ  \n",
      "21933                         <15k                  Good    CT  \n",
      "21795                         <15k             Very Good    NY  \n",
      "3433                       15k-25k           Exceptional    NM  \n",
      "17117                         <15k             Very Good    NY  \n",
      "2660                          >25k                  Good    PA  \n",
      "26213                         <15k                  Good    CT  \n",
      "22744                         <15k                  Fair    CT  \n",
      "24173                         >25k                  Good    MO  \n"
     ]
    }
   ],
   "source": [
    "#Remove this comment if want to select attribute manually\n",
    "#labels = [\"Gender\",\"EngineHP\",\"credit_history\",\"Years_Experience\",\"Marital_Status\",\"Vehical_type\",\"Miles_driven_annually\"]\n",
    "\n",
    "# Remove 'id' and 'target' columns\n",
    "labels = df.columns[2:]\n",
    "X = df[labels]\n",
    "y = df['target']\n",
    "print(X.head(11))"
   ]
  },
  {
   "cell_type": "code",
   "execution_count": 9,
   "metadata": {},
   "outputs": [],
   "source": [
    "todummy_list = ['Gender', 'Marital_Status', 'Vehical_type', 'Age_bucket', 'EngineHP_bucket', 'Years_Experience_bucket', 'Miles_driven_annually_bucket', 'credit_history_bucket', 'State']\n",
    "\n",
    "# Function to dummy all the categorical variables used for modeling\n",
    "def dummy_df(df, todummy_list):\n",
    "    for x in todummy_list:\n",
    "        dummies = pd.get_dummies(df[x], prefix=x,)\n",
    "        df = df.drop(x, 1)\n",
    "        df = pd.concat([df, dummies], axis=1)\n",
    "    return df\n",
    "\n",
    "X = dummy_df(X, todummy_list)"
   ]
  },
  {
   "cell_type": "code",
   "execution_count": 10,
   "metadata": {},
   "outputs": [
    {
     "name": "stderr",
     "output_type": "stream",
     "text": [
      "C:\\Users\\Sky\\Anaconda3\\envs\\mini-project\\lib\\site-packages\\sklearn\\utils\\deprecation.py:58: DeprecationWarning: Class Imputer is deprecated; Imputer was deprecated in version 0.20 and will be removed in 0.22. Import impute.SimpleImputer from sklearn instead.\n",
      "  warnings.warn(msg, category=DeprecationWarning)\n"
     ]
    },
    {
     "data": {
      "text/plain": [
       "State_WY                             0\n",
       "credit_history_bucket_Exceptional    0\n",
       "Years_Experience_bucket_15-30        0\n",
       "Years_Experience_bucket_3-8'         0\n",
       "Years_Experience_bucket_9-14'        0\n",
       "dtype: int64"
      ]
     },
     "execution_count": 10,
     "metadata": {},
     "output_type": "execute_result"
    }
   ],
   "source": [
    "# Impute missing values using Imputer in sklearn.preprocessing\n",
    "\n",
    "imp = Imputer(missing_values='NaN', strategy='median', axis=0)\n",
    "imp.fit(X)\n",
    "X = pd.DataFrame(data=imp.transform(X) , columns=X.columns)\n",
    "\n",
    "# Now check again to see if you still have missing data\n",
    "X.isnull().sum().sort_values(ascending=False).head()"
   ]
  },
  {
   "cell_type": "code",
   "execution_count": 50,
   "metadata": {},
   "outputs": [
    {
     "data": {
      "text/plain": [
       "EngineHP                                  120.0\n",
       "credit_history                            788.0\n",
       "Years_Experience                           17.0\n",
       "annual_claims                               0.0\n",
       "Miles_driven_annually                   13922.0\n",
       "size_of_family                              1.0\n",
       "Gender_F                                    1.0\n",
       "Gender_M                                    0.0\n",
       "Marital_Status_Married                      1.0\n",
       "Marital_Status_Single                       0.0\n",
       "Vehical_type_Car                            1.0\n",
       "Vehical_type_Truck                          0.0\n",
       "Vehical_type_Utility                        0.0\n",
       "Vehical_type_Van                            0.0\n",
       "Age_bucket_18-27                            0.0\n",
       "Age_bucket_28-34                            0.0\n",
       "Age_bucket_35-40                            0.0\n",
       "Age_bucket_<18                              0.0\n",
       "Age_bucket_>40                              1.0\n",
       "EngineHP_bucket_161-350                     0.0\n",
       "EngineHP_bucket_90-160                      1.0\n",
       "EngineHP_bucket_<90                         0.0\n",
       "EngineHP_bucket_>350                        0.0\n",
       "Years_Experience_bucket_15-30               1.0\n",
       "Years_Experience_bucket_3-8'                0.0\n",
       "Years_Experience_bucket_9-14'               0.0\n",
       "Years_Experience_bucket_<3                  0.0\n",
       "Years_Experience_bucket_>30                 0.0\n",
       "Miles_driven_annually_bucket_15k-25k        0.0\n",
       "Miles_driven_annually_bucket_<15k           1.0\n",
       "                                         ...   \n",
       "State_ME                                    0.0\n",
       "State_MI                                    0.0\n",
       "State_MN                                    0.0\n",
       "State_MO                                    0.0\n",
       "State_MS                                    0.0\n",
       "State_MT                                    0.0\n",
       "State_NC                                    0.0\n",
       "State_ND                                    0.0\n",
       "State_NE                                    0.0\n",
       "State_NH                                    0.0\n",
       "State_NJ                                    0.0\n",
       "State_NM                                    0.0\n",
       "State_NV                                    0.0\n",
       "State_NY                                    1.0\n",
       "State_OH                                    0.0\n",
       "State_OK                                    0.0\n",
       "State_OR                                    0.0\n",
       "State_PA                                    0.0\n",
       "State_RI                                    0.0\n",
       "State_SC                                    0.0\n",
       "State_SD                                    0.0\n",
       "State_TN                                    0.0\n",
       "State_TX                                    0.0\n",
       "State_UT                                    0.0\n",
       "State_VA                                    0.0\n",
       "State_VT                                    0.0\n",
       "State_WA                                    0.0\n",
       "State_WI                                    0.0\n",
       "State_WV                                    0.0\n",
       "State_WY                                    0.0\n",
       "Name: 4, Length: 86, dtype: float64"
      ]
     },
     "execution_count": 50,
     "metadata": {},
     "output_type": "execute_result"
    }
   ],
   "source": [
    "# Separate the dataset become 70 percent trainning data and 30 percent testing dataset\n",
    "X_train, X_test, y_train, y_test = train_test_split(X, y, test_size=0.3, random_state=1)\n",
    "X_test.loc[4]"
   ]
  },
  {
   "cell_type": "markdown",
   "metadata": {},
   "source": [
    "# Model without PCA"
   ]
  },
  {
   "cell_type": "code",
   "execution_count": 27,
   "metadata": {},
   "outputs": [
    {
     "name": "stdout",
     "output_type": "stream",
     "text": [
      "Accuracy Non-linear: 50.59%\n",
      "Recall:  0.9073373676248109\n",
      "Precision:  0.5023031825795645\n",
      "F1 Score:  0.6466307277628033\n",
      "Confusion Matric:  [[ 286 2377]\n",
      " [ 245 2399]]\n"
     ]
    }
   ],
   "source": [
    "# Try with Non Linear SVM Model without PCA dimension reduction\n",
    "\n",
    "svmnonlinear_noPca = svm.NuSVC(kernel='rbf',gamma='scale', probability=True)\n",
    "svmnonlinear_noPca.fit(X_train,y_train)\n",
    "y_pred = svmnonlinear_noPca.predict(X_test)\n",
    "confidence = svmnonlinear_noPca.predict_proba(X_test)\n",
    "\n",
    "accuracy_nonlinearsvm = accuracy_score(y_test, y_pred)\n",
    "recall_nonlinearsvm = recall_score(y_test, y_pred)\n",
    "conf_mat_nonlinearsvm = confusion_matrix(y_true=y_test, y_pred=y_pred)\n",
    "precision_nonlinearsvm = precision_score(y_test, y_pred)\n",
    "f1_score_nonlinearsvm = f1_score(y_test, y_pred)\n",
    "\n",
    "print(\"Accuracy Non-linear: %.2f%%\" % (accuracy_nonlinearsvm * 100.0))\n",
    "print(\"Recall: \", recall_nonlinearsvm)\n",
    "print(\"Precision: \", precision_nonlinearsvm)\n",
    "print(\"F1 Score: \", f1_score_nonlinearsvm)\n",
    "print(\"Confusion Matric: \", conf_mat_nonlinearsvm)\n"
   ]
  },
  {
   "cell_type": "code",
   "execution_count": 53,
   "metadata": {},
   "outputs": [
    {
     "data": {
      "text/plain": [
       "EngineHP                                  120.0\n",
       "credit_history                            788.0\n",
       "Years_Experience                           17.0\n",
       "annual_claims                               0.0\n",
       "Miles_driven_annually                   13922.0\n",
       "size_of_family                              1.0\n",
       "Gender_F                                    1.0\n",
       "Gender_M                                    0.0\n",
       "Marital_Status_Married                      1.0\n",
       "Marital_Status_Single                       0.0\n",
       "Vehical_type_Car                            1.0\n",
       "Vehical_type_Truck                          0.0\n",
       "Vehical_type_Utility                        0.0\n",
       "Vehical_type_Van                            0.0\n",
       "Age_bucket_18-27                            0.0\n",
       "Age_bucket_28-34                            0.0\n",
       "Age_bucket_35-40                            0.0\n",
       "Age_bucket_<18                              0.0\n",
       "Age_bucket_>40                              1.0\n",
       "EngineHP_bucket_161-350                     0.0\n",
       "EngineHP_bucket_90-160                      1.0\n",
       "EngineHP_bucket_<90                         0.0\n",
       "EngineHP_bucket_>350                        0.0\n",
       "Years_Experience_bucket_15-30               1.0\n",
       "Years_Experience_bucket_3-8'                0.0\n",
       "Years_Experience_bucket_9-14'               0.0\n",
       "Years_Experience_bucket_<3                  0.0\n",
       "Years_Experience_bucket_>30                 0.0\n",
       "Miles_driven_annually_bucket_15k-25k        0.0\n",
       "Miles_driven_annually_bucket_<15k           1.0\n",
       "                                         ...   \n",
       "State_ME                                    0.0\n",
       "State_MI                                    0.0\n",
       "State_MN                                    0.0\n",
       "State_MO                                    0.0\n",
       "State_MS                                    0.0\n",
       "State_MT                                    0.0\n",
       "State_NC                                    0.0\n",
       "State_ND                                    0.0\n",
       "State_NE                                    0.0\n",
       "State_NH                                    0.0\n",
       "State_NJ                                    0.0\n",
       "State_NM                                    0.0\n",
       "State_NV                                    0.0\n",
       "State_NY                                    1.0\n",
       "State_OH                                    0.0\n",
       "State_OK                                    0.0\n",
       "State_OR                                    0.0\n",
       "State_PA                                    0.0\n",
       "State_RI                                    0.0\n",
       "State_SC                                    0.0\n",
       "State_SD                                    0.0\n",
       "State_TN                                    0.0\n",
       "State_TX                                    0.0\n",
       "State_UT                                    0.0\n",
       "State_VA                                    0.0\n",
       "State_VT                                    0.0\n",
       "State_WA                                    0.0\n",
       "State_WI                                    0.0\n",
       "State_WV                                    0.0\n",
       "State_WY                                    0.0\n",
       "Name: 4, Length: 86, dtype: float64"
      ]
     },
     "execution_count": 53,
     "metadata": {},
     "output_type": "execute_result"
    }
   ],
   "source": [
    "#print(np.where(y_pred == 0))\n",
    "X_test.loc[4]\n",
    "#confidence[4831]"
   ]
  },
  {
   "cell_type": "code",
   "execution_count": null,
   "metadata": {},
   "outputs": [],
   "source": [
    "# Confusion Matrix of the Non-linear SVM\n",
    "\n",
    "from sklearn.metrics import confusion_matrix\n",
    "from matplotlib import pyplot as plt\n",
    "\n",
    "conf_mat = confusion_matrix(y_true=y_test, y_pred=y_pred)\n",
    "print('Confusion matrix:\\n', conf_mat_nonlinearsvm)\n",
    "\n",
    "labels = ['Class 0', 'Class 1']\n",
    "fig = plt.figure()\n",
    "ax = fig.add_subplot(111)\n",
    "cax = ax.matshow(conf_mat_nonlinearsvm, cmap=plt.cm.Blues)\n",
    "fig.colorbar(cax)\n",
    "ax.set_xticklabels([''] + labels)\n",
    "ax.set_yticklabels([''] + labels)\n",
    "plt.xlabel('Predicted')\n",
    "plt.ylabel('Expected')\n",
    "plt.show()"
   ]
  },
  {
   "cell_type": "code",
   "execution_count": 76,
   "metadata": {},
   "outputs": [
    {
     "name": "stderr",
     "output_type": "stream",
     "text": [
      "C:\\Users\\Sky\\Anaconda3\\envs\\mini-project\\lib\\site-packages\\sklearn\\linear_model\\logistic.py:433: FutureWarning: Default solver will be changed to 'lbfgs' in 0.22. Specify a solver to silence this warning.\n",
      "  FutureWarning)\n"
     ]
    },
    {
     "name": "stdout",
     "output_type": "stream",
     "text": [
      "Accuracy: 49.09%\n",
      "Recall Score 0.4633131618759455\n",
      "Precision Score:  0.48843700159489634\n",
      "F1 Score:  0.4755434782608695\n",
      "Confusion Matric Logistic:  [[1380 1283]\n",
      " [1419 1225]]\n"
     ]
    }
   ],
   "source": [
    "# Try with Logistic Regression\n",
    "\n",
    "lr = LogisticRegression()\n",
    "lr.fit(X_train,y_train)\n",
    "y_pred = lr.predict(X_test)\n",
    "\n",
    "accuracy_logistic = accuracy_score(y_test, y_pred)\n",
    "recall_logistic = recall_score(y_test, y_pred)\n",
    "conf_mat_logisticRegression = confusion_matrix(y_true=y_test, y_pred=y_pred)\n",
    "precision_logisticRegression = precision_score(y_test, y_pred)\n",
    "f1_score_logisticRegression= f1_score(y_test, y_pred)\n",
    "\n",
    "print(\"Accuracy: %.2f%%\" % (accuracy_logistic * 100.0))\n",
    "print(\"Recall Score\", recall_logistic)\n",
    "print(\"Precision Score: \", precision_logisticRegression)\n",
    "print(\"F1 Score: \", f1_score_logisticRegression)\n",
    "print(\"Confusion Matric Logistic: \", conf_mat_logisticRegression)\n"
   ]
  },
  {
   "cell_type": "code",
   "execution_count": 77,
   "metadata": {},
   "outputs": [
    {
     "name": "stdout",
     "output_type": "stream",
     "text": [
      "Confusion matrix:\n",
      " [[1380 1283]\n",
      " [1419 1225]]\n"
     ]
    },
    {
     "data": {
      "image/png": "[encoded data removed]",
      "text/plain": [
       "<Figure size 432x288 with 2 Axes>"
      ]
     },
     "metadata": {
      "needs_background": "light"
     },
     "output_type": "display_data"
    }
   ],
   "source": [
    "# Confusion Matrix of the Logistic regression\n",
    "\n",
    "from sklearn.metrics import confusion_matrix\n",
    "from matplotlib import pyplot as plt\n",
    "\n",
    "conf_mat = confusion_matrix(y_true=y_test, y_pred=y_pred)\n",
    "print('Confusion matrix:\\n', conf_mat_logisticRegression)\n",
    "\n",
    "labels = ['Class 0', 'Class 1']\n",
    "fig = plt.figure()\n",
    "ax = fig.add_subplot(111)\n",
    "cax = ax.matshow(conf_mat_logisticRegression, cmap=plt.cm.Blues)\n",
    "fig.colorbar(cax)\n",
    "ax.set_xticklabels([''] + labels)\n",
    "ax.set_yticklabels([''] + labels)\n",
    "plt.xlabel('Predicted')\n",
    "plt.ylabel('Expected')\n",
    "plt.show()"
   ]
  },
  {
   "cell_type": "code",
   "execution_count": 78,
   "metadata": {},
   "outputs": [
    {
     "name": "stdout",
     "output_type": "stream",
     "text": [
      "Accuracy: 50.56%\n",
      "Recall Score 0.5075642965204236\n",
      "Precision Score:  0.5037537537537538\n",
      "F1 Score:  0.5056518462697813\n",
      "Confusion Matric Random Forest:  [[1341 1322]\n",
      " [1302 1342]]\n"
     ]
    }
   ],
   "source": [
    "# Try with Random Forest Classfier\n",
    "\n",
    "from sklearn.ensemble import RandomForestClassifier\n",
    "\n",
    "rf = RandomForestClassifier(n_estimators=400)\n",
    "rf.fit(X_train, y_train)\n",
    "y_pred = rf.predict(X_test)\n",
    "\n",
    "estimator = rf.estimators_[0]\n",
    "\n",
    "from sklearn.tree import export_graphviz\n",
    "# Export as dot file\n",
    "export_graphviz(estimator, out_file='tree.dot', \n",
    "                #feature_names = [0,1,2,3,4,5,6,7,8,9],\n",
    "                #class_names = [0,1],\n",
    "                rounded = True, proportion = False, \n",
    "                precision = 2, filled = True)\n",
    "\n",
    "# Convert to png using system command (requires Graphviz)\n",
    "#from subprocess import call\n",
    "#call(['dot', '-Tpng', 'tree.dot', '-o', 'tree.png', '-Gdpi=600'])\n",
    "\n",
    "accuracy_randomForest = accuracy_score(y_test, y_pred)\n",
    "recall_randomForest = recall_score(y_test, y_pred)\n",
    "conf_mat_randomForest = confusion_matrix(y_true=y_test, y_pred=y_pred)\n",
    "precision_randomForest = precision_score(y_test, y_pred)\n",
    "f1_score_randomForest = f1_score(y_test, y_pred)\n",
    "\n",
    "print(\"Accuracy: %.2f%%\" % (accuracy_randomForest * 100.0))\n",
    "print(\"Recall Score\", recall_randomForest)\n",
    "print(\"Precision Score: \", precision_randomForest)\n",
    "print(\"F1 Score: \", f1_score_randomForest)\n",
    "print(\"Confusion Matric Random Forest: \", conf_mat_randomForest)\n"
   ]
  },
  {
   "cell_type": "code",
   "execution_count": 79,
   "metadata": {},
   "outputs": [
    {
     "name": "stdout",
     "output_type": "stream",
     "text": [
      "Confusion matrix:\n",
      " [[1341 1322]\n",
      " [1302 1342]]\n"
     ]
    },
    {
     "data": {
      "image/png": "[encoded data removed]",
      "text/plain": [
       "<Figure size 432x288 with 2 Axes>"
      ]
     },
     "metadata": {
      "needs_background": "light"
     },
     "output_type": "display_data"
    }
   ],
   "source": [
    "# Confusion Matrix of the Random Forest Before PCA dimension Reduction\n",
    "\n",
    "from sklearn.metrics import confusion_matrix\n",
    "from matplotlib import pyplot as plt\n",
    "\n",
    "conf_mat = confusion_matrix(y_true=y_test, y_pred=y_pred)\n",
    "print('Confusion matrix:\\n', conf_mat_randomForest)\n",
    "\n",
    "labels = ['Class 0', 'Class 1']\n",
    "fig = plt.figure()\n",
    "ax = fig.add_subplot(111)\n",
    "cax = ax.matshow(conf_mat_randomForest, cmap=plt.cm.Blues)\n",
    "fig.colorbar(cax)\n",
    "ax.set_xticklabels([''] + labels)\n",
    "ax.set_yticklabels([''] + labels)\n",
    "plt.xlabel('Predicted')\n",
    "plt.ylabel('Expected')\n",
    "plt.show()"
   ]
  },
  {
   "cell_type": "markdown",
   "metadata": {},
   "source": [
    "# Modeling With Preprocessing of data\n",
    "\n"
   ]
  },
  {
   "cell_type": "markdown",
   "metadata": {},
   "source": [
    "# Min Max Scalar"
   ]
  },
  {
   "cell_type": "code",
   "execution_count": 80,
   "metadata": {},
   "outputs": [
    {
     "data": {
      "text/plain": [
       "array([[0.069869  , 0.73090909, 0.23076923, ..., 0.        , 0.        ,\n",
       "        0.        ],\n",
       "       [0.37882096, 0.64545455, 0.02564103, ..., 0.        , 0.        ,\n",
       "        0.        ],\n",
       "       [0.05786026, 0.78909091, 0.87179487, ..., 0.        , 0.        ,\n",
       "        0.        ],\n",
       "       ...,\n",
       "       [0.04039301, 0.73818182, 0.43589744, ..., 0.        , 0.        ,\n",
       "        0.        ],\n",
       "       [0.00764192, 0.87818182, 0.33333333, ..., 0.        , 0.        ,\n",
       "        0.        ],\n",
       "       [0.6069869 , 0.64363636, 0.02564103, ..., 0.        , 0.        ,\n",
       "        0.        ]])"
      ]
     },
     "execution_count": 80,
     "metadata": {},
     "output_type": "execute_result"
    }
   ],
   "source": [
    "# Use MinMaxScaler for normalize our data to range 0 to 1\n",
    "\n",
    "cs = MinMaxScaler()\n",
    "# Fit on training set only.\n",
    "X_train = cs.fit_transform(X_train)\n",
    "X_test = cs.transform(X_test)\n",
    "\n",
    "X_train"
   ]
  },
  {
   "cell_type": "markdown",
   "metadata": {},
   "source": [
    "# PCA Dimension Reduction"
   ]
  },
  {
   "cell_type": "code",
   "execution_count": 81,
   "metadata": {},
   "outputs": [
    {
     "data": {
      "text/plain": [
       "array([[-0.7982177 , -0.7214153 ,  0.10364671, ...,  0.65878243,\n",
       "         0.4791647 ,  0.34360809],\n",
       "       [-0.02651831, -0.9768591 ,  0.09851905, ...,  1.3690828 ,\n",
       "        -0.14417324,  0.48816609],\n",
       "       [-1.25332035, -0.55153978,  0.04354274, ...,  0.3217851 ,\n",
       "         0.57593318,  0.09495518],\n",
       "       ...,\n",
       "       [-0.86275659, -0.45255899, -0.90118929, ..., -0.20996615,\n",
       "        -0.1634453 , -0.19317423],\n",
       "       [ 0.10344828,  1.12375686, -0.11584898, ...,  0.07468522,\n",
       "         0.83439045,  0.24661607],\n",
       "       [ 0.66551404, -0.93252449, -0.87893674, ...,  0.71107284,\n",
       "        -0.09307996,  0.1626237 ]])"
      ]
     },
     "execution_count": 81,
     "metadata": {},
     "output_type": "execute_result"
    }
   ],
   "source": [
    "#from sklearn.decomposition import PCA\n",
    "# Make an instance of the Model\n",
    "\n",
    "pca = PCA(n_components=10)\n",
    "\n",
    "pca.fit(X_train)\n",
    "pca.n_components_\n",
    "\n",
    "X_train = pca.transform(X_train)\n",
    "X_test = pca.transform(X_test)\n",
    "\n",
    "X_train"
   ]
  },
  {
   "cell_type": "markdown",
   "metadata": {},
   "source": [
    "# Model after Feature Engineering"
   ]
  },
  {
   "cell_type": "code",
   "execution_count": 25,
   "metadata": {},
   "outputs": [
    {
     "name": "stdout",
     "output_type": "stream",
     "text": [
      "[1 1 1 ... 1 1 1]\n",
      "Accuracy Non-linear: 50.24%\n",
      "Recall:  0.9005295007564297\n",
      "Precision:  0.500315192267283\n",
      "F1 Score:  0.6432527353775496\n",
      "Confusion Matric:  [[ 285 2378]\n",
      " [ 263 2381]]\n"
     ]
    }
   ],
   "source": [
    "# Try with Non Linear SVM Model with PCA dimension reduction\n",
    "\n",
    "svmnonlinear_PCA = svm.NuSVC(kernel='poly',gamma='scale', probability=True)\n",
    "svmnonlinear_PCA.fit(X_train,y_train)\n",
    "y_pred = svmnonlinear_PCA.predict(X_test)\n",
    "print(y_pred)\n",
    "\n",
    "accuracy_nonlinearsvm = accuracy_score(y_test, y_pred)\n",
    "recall_nonlinearsvm = recall_score(y_test, y_pred)\n",
    "conf_mat_nonlinearsvm = confusion_matrix(y_true=y_test, y_pred=y_pred)\n",
    "precision_nonlinearsvm = precision_score(y_test, y_pred)\n",
    "f1_score_nonlinearsvm = f1_score(y_test, y_pred)\n",
    "\n",
    "print(\"Accuracy Non-linear: %.2f%%\" % (accuracy_nonlinearsvm * 100.0))\n",
    "print(\"Recall: \", recall_nonlinearsvm)\n",
    "print(\"Precision: \", precision_nonlinearsvm)\n",
    "print(\"F1 Score: \", f1_score_nonlinearsvm)\n",
    "print(\"Confusion Matric: \", conf_mat_nonlinearsvm)"
   ]
  },
  {
   "cell_type": "code",
   "execution_count": 14,
   "metadata": {},
   "outputs": [
    {
     "name": "stdout",
     "output_type": "stream",
     "text": [
      "Confusion matrix:\n",
      " [[ 286 2377]\n",
      " [ 245 2399]]\n"
     ]
    },
    {
     "data": {
      "image/png": "[encoded data removed]",
      "text/plain": [
       "<Figure size 432x288 with 2 Axes>"
      ]
     },
     "metadata": {
      "needs_background": "light"
     },
     "output_type": "display_data"
    }
   ],
   "source": [
    "# Confusion Matrix of the Non-linear SVM with PCA dimension Reduction\n",
    "\n",
    "from sklearn.metrics import confusion_matrix\n",
    "from matplotlib import pyplot as plt\n",
    "\n",
    "conf_mat = confusion_matrix(y_true=y_test, y_pred=y_pred)\n",
    "print('Confusion matrix:\\n', conf_mat_nonlinearsvm)\n",
    "\n",
    "labels = ['Class 0', 'Class 1']\n",
    "fig = plt.figure()\n",
    "ax = fig.add_subplot(111)\n",
    "cax = ax.matshow(conf_mat_nonlinearsvm, cmap=plt.cm.Blues)\n",
    "fig.colorbar(cax)\n",
    "ax.set_xticklabels([''] + labels)\n",
    "ax.set_yticklabels([''] + labels)\n",
    "plt.xlabel('Predicted')\n",
    "plt.ylabel('Expected')\n",
    "plt.show()"
   ]
  },
  {
   "cell_type": "code",
   "execution_count": 15,
   "metadata": {},
   "outputs": [
    {
     "name": "stderr",
     "output_type": "stream",
     "text": [
      "C:\\Users\\Sky\\Anaconda3\\envs\\mini-project\\lib\\site-packages\\sklearn\\linear_model\\logistic.py:433: FutureWarning: Default solver will be changed to 'lbfgs' in 0.22. Specify a solver to silence this warning.\n",
      "  FutureWarning)\n"
     ]
    },
    {
     "name": "stdout",
     "output_type": "stream",
     "text": [
      "Accuracy: 49.09%\n",
      "Recall Score 0.4633131618759455\n",
      "Precision Score:  0.48843700159489634\n",
      "F1 Score:  0.4755434782608695\n",
      "Confusion Matric Logistic:  [[1380 1283]\n",
      " [1419 1225]]\n"
     ]
    }
   ],
   "source": [
    "# Try with Logistic Regression after dimension reduction\n",
    "\n",
    "lr = LogisticRegression()\n",
    "lr.fit(X_train,y_train)\n",
    "y_pred = lr.predict(X_test)\n",
    "\n",
    "accuracy_logistic = accuracy_score(y_test, y_pred)\n",
    "recall_logistic = recall_score(y_test, y_pred)\n",
    "conf_mat_logisticRegression = confusion_matrix(y_true=y_test, y_pred=y_pred)\n",
    "precision_logisticRegression = precision_score(y_test, y_pred)\n",
    "f1_score_logisticRegression = f1_score(y_test, y_pred)\n",
    "\n",
    "print(\"Accuracy: %.2f%%\" % (accuracy_logistic * 100.0))\n",
    "print(\"Recall Score\", recall_logistic)\n",
    "print(\"Precision Score: \", precision_logisticRegression)\n",
    "print(\"F1 Score: \", f1_score_logisticRegression)\n",
    "print(\"Confusion Matric Logistic: \", conf_mat_logisticRegression)\n"
   ]
  },
  {
   "cell_type": "code",
   "execution_count": 16,
   "metadata": {},
   "outputs": [
    {
     "name": "stdout",
     "output_type": "stream",
     "text": [
      "Confusion matrix:\n",
      " [[1380 1283]\n",
      " [1419 1225]]\n"
     ]
    },
    {
     "data": {
      "image/png": "[encoded data removed]",
      "text/plain": [
       "<Figure size 432x288 with 2 Axes>"
      ]
     },
     "metadata": {
      "needs_background": "light"
     },
     "output_type": "display_data"
    }
   ],
   "source": [
    "# Confusion Matrix of the Logistic regression\n",
    "\n",
    "from sklearn.metrics import confusion_matrix\n",
    "from matplotlib import pyplot as plt\n",
    "\n",
    "conf_mat = confusion_matrix(y_true=y_test, y_pred=y_pred)\n",
    "print('Confusion matrix:\\n', conf_mat_logisticRegression)\n",
    "\n",
    "labels = ['Class 0', 'Class 1']\n",
    "fig = plt.figure()\n",
    "ax = fig.add_subplot(111)\n",
    "cax = ax.matshow(conf_mat_logisticRegression, cmap=plt.cm.Blues)\n",
    "fig.colorbar(cax)\n",
    "ax.set_xticklabels([''] + labels)\n",
    "ax.set_yticklabels([''] + labels)\n",
    "plt.xlabel('Predicted')\n",
    "plt.ylabel('Expected')\n",
    "plt.show()"
   ]
  },
  {
   "cell_type": "code",
   "execution_count": 17,
   "metadata": {},
   "outputs": [
    {
     "name": "stdout",
     "output_type": "stream",
     "text": [
      "Accuracy: 50.44%\n",
      "Recall Score 0.49848714069591527\n",
      "Precision Score:  0.5026697177726926\n",
      "F1 Score:  0.5005696923661223\n",
      "Confusion Matric Random Forest:  [[1359 1304]\n",
      " [1326 1318]]\n"
     ]
    }
   ],
   "source": [
    "# Try with Random Forest Classfier\n",
    "\n",
    "from sklearn.ensemble import RandomForestClassifier\n",
    "\n",
    "rf = RandomForestClassifier(n_estimators=400)\n",
    "rf.fit(X_train, y_train)\n",
    "y_pred = rf.predict(X_test)\n",
    "\n",
    "estimator = rf.estimators_[0]\n",
    "\n",
    "from sklearn.tree import export_graphviz\n",
    "# Export as dot file\n",
    "export_graphviz(estimator, out_file='tree.dot', \n",
    "                #feature_names = [0,1,2,3,4,5,6,7,8,9],\n",
    "                #class_names = [0,1],\n",
    "                rounded = True, proportion = False, \n",
    "                precision = 2, filled = True)\n",
    "\n",
    "# Convert to png using system command (requires Graphviz)\n",
    "#from subprocess import call\n",
    "#call(['dot', '-Tpng', 'tree.dot', '-o', 'tree.png', '-Gdpi=600'])\n",
    "\n",
    "accuracy_randomForest = accuracy_score(y_test, y_pred)\n",
    "recall_randomForest = recall_score(y_test, y_pred)\n",
    "conf_mat_randomForest = confusion_matrix(y_true=y_test, y_pred=y_pred)\n",
    "precision_randomForest = precision_score(y_test, y_pred)\n",
    "f1_score_randomForest = f1_score(y_test, y_pred)\n",
    "\n",
    "print(\"Accuracy: %.2f%%\" % (accuracy_randomForest * 100.0))\n",
    "print(\"Recall Score\", recall_randomForest)\n",
    "print(\"Precision Score: \", precision_randomForest)\n",
    "print(\"F1 Score: \", f1_score_randomForest)\n",
    "print(\"Confusion Matric Random Forest: \", conf_mat_randomForest)"
   ]
  },
  {
   "cell_type": "code",
   "execution_count": 18,
   "metadata": {},
   "outputs": [
    {
     "name": "stdout",
     "output_type": "stream",
     "text": [
      "Confusion matrix:\n",
      " [[1359 1304]\n",
      " [1326 1318]]\n"
     ]
    },
    {
     "data": {
      "image/png": "[encoded data removed]",
      "text/plain": [
       "<Figure size 432x288 with 2 Axes>"
      ]
     },
     "metadata": {
      "needs_background": "light"
     },
     "output_type": "display_data"
    }
   ],
   "source": [
    "# Confusion Matrix of the Random Forest\n",
    "\n",
    "from sklearn.metrics import confusion_matrix\n",
    "from matplotlib import pyplot as plt\n",
    "\n",
    "conf_mat = confusion_matrix(y_true=y_test, y_pred=y_pred)\n",
    "print('Confusion matrix:\\n', conf_mat_randomForest)\n",
    "\n",
    "labels = ['Class 0', 'Class 1']\n",
    "fig = plt.figure()\n",
    "ax = fig.add_subplot(111)\n",
    "cax = ax.matshow(conf_mat_randomForest, cmap=plt.cm.Blues)\n",
    "fig.colorbar(cax)\n",
    "ax.set_xticklabels([''] + labels)\n",
    "ax.set_yticklabels([''] + labels)\n",
    "plt.xlabel('Predicted')\n",
    "plt.ylabel('Expected')\n",
    "plt.show()"
   ]
  },
  {
   "cell_type": "markdown",
   "metadata": {},
   "source": [
    "Here got explain how the measure work\n",
    "\n",
    "https://classeval.wordpress.com/introduction/basic-evaluation-measures/\n",
    "\n",
    "ERR = (FP+FN)/(TP+TN+FN+FP)\n",
    "\n",
    "Error Rate is calculated as the total number of 2 incorrect predictions (FN+FP) divided by the total number of a dataset (P+N).\n",
    "\n",
    "Accuracy = (TP+TN)/(P+N)\n",
    "\n",
    "Accuracy is calculated as the total number of 2 correct predictions (TP+TN) divided by the total number of a dataset (P+N).\n",
    "\n",
    "Recall or True Positive Rate\n",
    "\n",
    "Number of correct positive predictions (TP) divided by the total number of postives (P).\n",
    "\n",
    "False Postive Rate\n",
    "\n",
    "Calculated as the number of incorrect positive predictions (FP) divided by the total number of negatives (N)."
   ]
  },
  {
   "cell_type": "code",
   "execution_count": 24,
   "metadata": {},
   "outputs": [],
   "source": [
    "# save the nonlinear svm model before feature engineering to disk\n",
    "\n",
    "filename_nonlinearsvm = 'svm_rbf_model.sav'\n",
    "pickle.dump(svmnonlinear_noPca, open(filename_nonlinearsvm, 'wb'))"
   ]
  },
  {
   "cell_type": "code",
   "execution_count": null,
   "metadata": {},
   "outputs": [],
   "source": []
  },
  {
   "cell_type": "code",
   "execution_count": null,
   "metadata": {},
   "outputs": [],
   "source": []
  }
 ],
 "metadata": {
  "kernelspec": {
   "display_name": "Python 3",
   "language": "python",
   "name": "python3"
  },
  "language_info": {
   "codemirror_mode": {
    "name": "ipython",
    "version": 3
   },
   "file_extension": ".py",
   "mimetype": "text/x-python",
   "name": "python",
   "nbconvert_exporter": "python",
   "pygments_lexer": "ipython3",
   "version": "3.7.3"
  }
 },
 "nbformat": 4,
 "nbformat_minor": 2
}
